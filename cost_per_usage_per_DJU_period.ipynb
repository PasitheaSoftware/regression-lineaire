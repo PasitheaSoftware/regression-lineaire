{
 "cells": [
  {
   "cell_type": "markdown",
   "metadata": {},
   "source": [
    "# Prédiction des coûts de facturation par consommation de gaz de chauffage\n",
    "\n",
    "Ce prototype défini un algorithme de prédiction basé sur une régression linéaire simple. Il permet d'estimer la facture de gaz à partir d'une consommation donnée.\n",
    "\n",
    "## 1. Import des packages"
   ]
  },
  {
   "cell_type": "code",
   "execution_count": 215,
   "metadata": {},
   "outputs": [],
   "source": [
    "import numpy as np\n",
    "import pandas as pd\n",
    "import matplotlib.pyplot as plt\n",
    "import xlrd"
   ]
  },
  {
   "cell_type": "markdown",
   "metadata": {},
   "source": [
    "## 2. Création des matrices à partir du dataset\n",
    "Le dataset a été crée à partir des valeurs de consommation de gaz et les factures associées pour chaque période d'un mois entre janvier 2017 et décembre 2019. Comme il s'agit d'une consommation de gaz, nous avons exclus les mois qui ne  sont pas pris en compte par la période de chauffage définie par les DJU. Cela signifie que nous avons exclus les mois de juin, juillet, août et septembre pour chaque année.\n",
    "Ce dataset est petit (24 entrées) ce qui risque de jouer sur l'apprentissage et sur la précision. Il conviendra de la faire évoluer au fur et à mesure que de nouvelles données arrivent."
   ]
  },
  {
   "cell_type": "code",
   "execution_count": 216,
   "metadata": {},
   "outputs": [
    {
     "name": "stdout",
     "output_type": "stream",
     "text": [
      "data examples: \n",
      "   month   month2  year  usage     cost Type localisation\n",
      "0      1  JANVIER  2019  49327  2718.77  gaz          CXS\n",
      "1      2  FÉVRIER  2019  33438  1866.46  gaz          CXS\n",
      "2      3     MARS  2019  13871   890.25  gaz          CXS\n",
      "3      4    AVRIL  2019  12901   835.26  gaz          CXS\n",
      "4      5      MAI  2019   5081   528.53  gaz          CXS\n",
      "x shape: (24, 2)\n",
      "y shape: (24, 1)\n"
     ]
    }
   ],
   "source": [
    "data_gaz = pd.read_excel('~/Documents/Unigrid/Datasets/CXS_Gaz_DJU_2017_2019.xlsx')\n",
    "print(\"data examples: \\n{0}\".format(data_gaz.head()))\n",
    "x = data_gaz['usage'].to_numpy()\n",
    "x = x.reshape(x.shape[0], 1)\n",
    "y = data_gaz['cost'].to_numpy()\n",
    "y = y.reshape(y.shape[0], 1)\n",
    "\n",
    "X = np.hstack((x, np.ones(x.shape)))\n",
    "print(\"x shape: {0}\".format(X.shape))\n",
    "print(\"y shape: {0}\".format(y.shape))"
   ]
  },
  {
   "cell_type": "markdown",
   "metadata": {},
   "source": [
    "## 3. Définition du modèle\n",
    "\n",
    "Le prédicteur est une régression lineaire donc le modèle utilisé est une fonction affine de la forme:   \n",
    "    \n",
    "        f(y) = ax + b    \n",
    "            \n",
    "En notation matricielle cela représente un produit matriciel (dot product) entre deux matrices:    \n",
    "\n",
    "        F(Y) = X.THETA\n",
    "\n",
    "avec:    \n",
    "Y = La matrice solution    \n",
    "X = La matrice des valeurs d'entrée    \n",
    "THETA = La matrice des paramètres a et b"
   ]
  },
  {
   "cell_type": "code",
   "execution_count": 217,
   "metadata": {},
   "outputs": [],
   "source": [
    "def model(u, v):\n",
    "    return u.dot(v)"
   ]
  },
  {
   "cell_type": "markdown",
   "metadata": {},
   "source": [
    "Les paramètres 'a' et 'b' ne sont pas générés aléatoirement. L'analyse de l'échelle des grandeurs montre que les valeurs de 'x' et 'y' sont trop grandes ce qui impliquerais trop d'étapes pour la descente de gradients.    \n",
    "Pour les réduire, le choix s'est porté sur le tuning du paramètre 'a' et en le choississant inférieur à 1 nous pouvons réduire la valeur 'x' d'origine.  "
   ]
  },
  {
   "cell_type": "code",
   "execution_count": 218,
   "metadata": {},
   "outputs": [
    {
     "name": "stdout",
     "output_type": "stream",
     "text": [
      "a: [0.03]\n",
      "b: [0.6]\n"
     ]
    }
   ],
   "source": [
    "theta = np.array([[0.03],[0.6]])\n",
    "print(\"a: {0}\\nb: {1}\".format(theta[0], theta[1]))"
   ]
  },
  {
   "cell_type": "code",
   "execution_count": 219,
   "metadata": {},
   "outputs": [
    {
     "data": {
      "text/plain": [
       "<matplotlib.collections.PathCollection at 0x7f98ca7868b0>"
      ]
     },
     "execution_count": 219,
     "metadata": {},
     "output_type": "execute_result"
    },
    {
     "data": {
      "image/png": "[encoded data removed]",
      "text/plain": [
       "<Figure size 432x288 with 1 Axes>"
      ]
     },
     "metadata": {
      "needs_background": "light"
     },
     "output_type": "display_data"
    }
   ],
   "source": [
    "plt.plot(x, model(X, theta), c='r')\n",
    "plt.scatter(x,y, c='b')"
   ]
  },
  {
   "cell_type": "markdown",
   "metadata": {},
   "source": [
    "## 4. La fonction de coût\n",
    "La fonction de coût de l'erreur (à ne pas confondre avec le coût en Euros estimé) est une fonction qui permet de calculer la valeur de l'erreur suite à l'apprentissage.    \n",
    "Cette fonction de coût est aussi appelée **Erreur Quadratique Moyenne (Mean Squared Error)**.    \n",
    "\n",
    "En notation matricielle, cette fonction correspond à:    \n",
    "\n",
    "    COUT = 1/2*m * SOMME((X.THETA - Y)^2)    \n",
    "\n",
    "avec:     \n",
    "m = nombre de lignes du dataset    \n",
    "X = la matrice d'entrée     \n",
    "THETA = la matrice des paramètres 'a' et 'b'    \n",
    "Y = la matrice résultat    "
   ]
  },
  {
   "cell_type": "code",
   "execution_count": 220,
   "metadata": {},
   "outputs": [],
   "source": [
    "def cost_function(X, y, theta):\n",
    "    m = len(y)\n",
    "    return (1/(2*m)) * (np.sum((X.dot(theta) - y)**2))"
   ]
  },
  {
   "cell_type": "markdown",
   "metadata": {},
   "source": [
    "## 5. Les gradients et la descente de gradients\n",
    "##### Les gradients\n",
    "Les gradients correspondent au valeur de la tangente en point donné de la courbe représentative de la somme des moindres carrés. Cela correspond à la valeur de la dérivée partielle de ce point.    \n",
    "En notation matricielle cela correspond à:    \n",
    "\n",
    "    THETA = 1/m Xt.(X.THETA - Y)\n",
    "    \n",
    "avec:    \n",
    "m = le nombre de lignes du dataset    \n",
    "Xt = la transposée de X\n",
    "X = la matrice d'entrée\n",
    "THETA = la matrice des paramètres 'a' et 'b'\n",
    "Y = la matrice résultats \n",
    "\n",
    "#### La descente de gradient\n",
    "L'algorithme de la descente de gradient consiste à trouver les valeurs de 'a' et 'b' pour lesquelles la dérivée est nulle.    \n",
    "C'est un algorithme itératif qui s'exécute avec deux hyperparmètres le **learning rate** qui va définir la taille du pas à effectuer lors de chaque itération et le **nombre d'itérations** à faire.     \n",
    "A chaque itérations nous récupérons la valeur de l'erreur calculée par la fonction de coût. Cela nous permettra de tracer la courbe d'apprentissage."
   ]
  },
  {
   "cell_type": "code",
   "execution_count": 221,
   "metadata": {},
   "outputs": [],
   "source": [
    "def grad(X, y, theta):\n",
    "    m = len(y)\n",
    "    return 1/m * X.T.dot(model(X, theta) - y)"
   ]
  },
  {
   "cell_type": "code",
   "execution_count": 222,
   "metadata": {},
   "outputs": [],
   "source": [
    "def gradient_descent(X, y, theta, learning_rate, n_iterations):\n",
    "    cost_history = np.zeros(n_iterations)\n",
    "    for i in range(0, n_iterations):\n",
    "        theta = theta - learning_rate * grad(X,y, theta)\n",
    "        cost_history[i] = cost_function(X, y, theta)\n",
    "    return theta, cost_history"
   ]
  },
  {
   "cell_type": "markdown",
   "metadata": {},
   "source": [
    "## 6. Apprentissage"
   ]
  },
  {
   "cell_type": "code",
   "execution_count": 224,
   "metadata": {},
   "outputs": [
    {
     "name": "stdout",
     "output_type": "stream",
     "text": [
      "Paramètres estimés\n",
      "a: [0.05350093]\n",
      "b: [0.60000235]\n"
     ]
    },
    {
     "data": {
      "text/plain": [
       "[<matplotlib.lines.Line2D at 0x7f98cadf5c40>]"
      ]
     },
     "execution_count": 224,
     "metadata": {},
     "output_type": "execute_result"
    },
    {
     "data": {
      "image/png": "[encoded data removed]",
      "text/plain": [
       "<Figure size 432x288 with 1 Axes>"
      ]
     },
     "metadata": {
      "needs_background": "light"
     },
     "output_type": "display_data"
    }
   ],
   "source": [
    "n_iter = 95000\n",
    "alpha = 0.0000000000001\n",
    "\n",
    "theta_final, cost_history = gradient_descent(X, y, theta, alpha, n_iter)\n",
    "print(\"Paramètres estimés\\na: {0}\\nb: {1}\".format(theta_final[0], theta_final[1]))\n",
    "predictions = model(X, theta_final)\n",
    "plt.scatter(x,y)\n",
    "plt.plot(x, predictions, c='r')"
   ]
  },
  {
   "cell_type": "markdown",
   "metadata": {},
   "source": [
    "## 7. Courbe d'apprentissage\n",
    "Cette courbe montre qu'au dela de 40000 itérations l'algorithme n'améliore pas 'a' et 'b'"
   ]
  },
  {
   "cell_type": "code",
   "execution_count": 225,
   "metadata": {},
   "outputs": [
    {
     "data": {
      "text/plain": [
       "[<matplotlib.lines.Line2D at 0x7f98cade0f40>]"
      ]
     },
     "execution_count": 225,
     "metadata": {},
     "output_type": "execute_result"
    },
    {
     "data": {
      "image/png": "[encoded data removed]",
      "text/plain": [
       "<Figure size 432x288 with 1 Axes>"
      ]
     },
     "metadata": {
      "needs_background": "light"
     },
     "output_type": "display_data"
    }
   ],
   "source": [
    "plt.plot(range(n_iter), cost_history)"
   ]
  },
  {
   "cell_type": "markdown",
   "metadata": {},
   "source": [
    "## 8. Calcul de la précision\n",
    "La précision de l'estimateur est calculé grâce à la méthode de la somme des moindres carrés (R^2).   \n",
    "La précision de cet estimateur est de 82.7%. Cette faible précision s'explique par la petite taille du dataset (24)."
   ]
  },
  {
   "cell_type": "code",
   "execution_count": 226,
   "metadata": {},
   "outputs": [],
   "source": [
    "def coef_determination(y, pred):\n",
    "    u = ((y - pred)**2).sum()\n",
    "    v = ((y - y.mean())**2).sum()\n",
    "    return 1 - u/v"
   ]
  },
  {
   "cell_type": "code",
   "execution_count": 227,
   "metadata": {},
   "outputs": [
    {
     "name": "stdout",
     "output_type": "stream",
     "text": [
      "R^2 = 82.7%\n"
     ]
    }
   ],
   "source": [
    "print(\"R^2 = {0}%\".format(round(coef_determination(y, predictions)*100,2)))"
   ]
  },
  {
   "cell_type": "markdown",
   "metadata": {},
   "source": [
    "## 9. Test de l'estimateur\n",
    "Pour tester l'estimateur nous créons une fonction qui va prédire une coût de consommation en fonction de la consommation relevée. "
   ]
  },
  {
   "cell_type": "code",
   "execution_count": 228,
   "metadata": {},
   "outputs": [],
   "source": [
    "def predict(v):\n",
    "    x = v\n",
    "    x = np.hstack((v, np.ones(x.shape)))\n",
    "    return model(x, theta_final)"
   ]
  },
  {
   "cell_type": "markdown",
   "metadata": {},
   "source": [
    "#### Test avec une valeur connue\n",
    "Pour faire le test, nous prenons une valeur de consommation connue (48327 kWh PCS) et nous la passons dans l'estimateur. Ensuite nous calculons la proportion de la valeur estimée par rapport à la valeur réelle, ce qui nous permet de savoir si la valeur est sous-estimée ou sur-estimée. Si le pourcentage calculé est supérieur à 100% (i.e. supérieur à 1) c'est une sur-estimation si le pourcentage est inférieur à 100% c'est une sous-estimation. L'objectif étant d'atteinde 100% ou de s'en rapprocher."
   ]
  },
  {
   "cell_type": "code",
   "execution_count": 229,
   "metadata": {},
   "outputs": [
    {
     "name": "stdout",
     "output_type": "stream",
     "text": [
      "Valeur réelle: 2718.77 €\n",
      "Valeur estimée: 2639.64 €\n"
     ]
    }
   ],
   "source": [
    "real_value = 2718.77\n",
    "v = np.array([49327])\n",
    "print(\"Valeur réelle: {0} €\\nValeur estimée: {1} €\".format(real_value, round(predict(v)[0], 2)))"
   ]
  },
  {
   "cell_type": "code",
   "execution_count": 230,
   "metadata": {},
   "outputs": [
    {
     "name": "stdout",
     "output_type": "stream",
     "text": [
      "97.0 %\n"
     ]
    }
   ],
   "source": [
    "delta = (predict(v)[0] / real_value)\n",
    "print(\"{0} %\".format(round(delta,2)*100))"
   ]
  }
 ],
 "metadata": {
  "kernelspec": {
   "display_name": "Python 3",
   "language": "python",
   "name": "python3"
  },
  "language_info": {
   "codemirror_mode": {
    "name": "ipython",
    "version": 3
   },
   "file_extension": ".py",
   "mimetype": "text/x-python",
   "name": "python",
   "nbconvert_exporter": "python",
   "pygments_lexer": "ipython3",
   "version": "3.8.0"
  }
 },
 "nbformat": 4,
 "nbformat_minor": 4
}
